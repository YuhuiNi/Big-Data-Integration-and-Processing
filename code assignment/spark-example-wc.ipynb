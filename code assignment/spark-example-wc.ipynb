{
 "cells": [
  {
   "cell_type": "code",
   "execution_count": 21,
   "metadata": {
    "collapsed": true
   },
   "outputs": [],
   "source": [
    "# Read file from hdfs\n",
    "lines = sc.textFile(\"hdfs:/user/cloudera/words.txt\")"
   ]
  },
  {
   "cell_type": "code",
   "execution_count": 22,
   "metadata": {
    "collapsed": false
   },
   "outputs": [
    {
     "data": {
      "text/plain": [
       "124456"
      ]
     },
     "execution_count": 22,
     "metadata": {},
     "output_type": "execute_result"
    }
   ],
   "source": [
    "# Verify successful load by using the count(), print elements in the RDD\n",
    "lines.count()"
   ]
  },
  {
   "cell_type": "markdown",
   "metadata": {},
   "source": [
    "```flatMap()``` - method iterates over every line in the RDD"
   ]
  },
  {
   "cell_type": "code",
   "execution_count": 23,
   "metadata": {
    "collapsed": true
   },
   "outputs": [],
   "source": [
    "# Split each line into words (one-to-many)\n",
    "words = lines.flatMap(lambda line : line.split(\" \"))"
   ]
  },
  {
   "cell_type": "markdown",
   "metadata": {},
   "source": [
    "```map()``` -  method iterates over every word in the words RDD."
   ]
  },
  {
   "cell_type": "code",
   "execution_count": 24,
   "metadata": {
    "collapsed": true
   },
   "outputs": [],
   "source": [
    "# Assign initial count value to each word (one-to-one)\n",
    "tuples = words.map(lambda word : (word, 1))"
   ]
  },
  {
   "cell_type": "markdown",
   "metadata": {},
   "source": [
    "Note that in the previous step we used **flatMap**, but here we used **map**. In this step, we want to create a **tuple** for every word, i.e., we have a **one-to-one mapping** between the input words and output tuples. In the previous step, we wanted to split each line into a **set of words**, i.e., there is a **one-to-many mapping** between input lines and output words. In general, use map when the number of inputs to number of outputs is one-to-one, and flatMap for one-to-many (or one-to-none)."
   ]
  },
  {
   "cell_type": "markdown",
   "metadata": {},
   "source": [
    "```reduceByKey()``` - method calls for the lambda expression for all the tuples with the same word. "
   ]
  },
  {
   "cell_type": "code",
   "execution_count": 25,
   "metadata": {
    "collapsed": true
   },
   "outputs": [],
   "source": [
    "# sum all word count values. sum all acounts in the tuples for each word\n",
    "# in the new RDD counts\n",
    "counts = tuples.reduceByKey(lambda a, b: (a + b))"
   ]
  },
  {
   "cell_type": "markdown",
   "metadata": {},
   "source": [
    "```coalesce()``` - method combines all the RDD partitions into a single partition\n",
    "since we want a single output file\n",
    "\n",
    "```saveAsTextFile()``` - writes the RDD to the specified location"
   ]
  },
  {
   "cell_type": "code",
   "execution_count": 28,
   "metadata": {
    "collapsed": false
   },
   "outputs": [],
   "source": [
    "# Write word counts to text file in HDFS. \n",
    "counts.coalesce(1).saveAsTextFile('hdfs:/user/cloudera/wordcount/outputDir')"
   ]
  },
  {
   "cell_type": "code",
   "execution_count": 31,
   "metadata": {
    "collapsed": false
   },
   "outputs": [
    {
     "name": "stdout",
     "output_type": "stream",
     "text": [
      "('', 517065)\n",
      "('VENTIDIUS', 3)\n",
      "('Stockfish,', 1)\n",
      "('Corin,', 2)\n",
      "('Begin', 6)\n",
      "('snap.', 1)\n",
      "('Just', 10)\n",
      "('Kills', 3)\n",
      "('enrooted', 1)\n",
      "('divers', 20)\n"
     ]
    }
   ],
   "source": [
    "%%bash\n",
    "\n",
    "# Using magiccell, bash. Copy the outputs into the local filesystem, and preview count.txt\n",
    "\n",
    "hadoop fs -copyToLocal wordcount/outputDir/part-00000 count.txt\n",
    "head count.txt"
   ]
  }
 ],
 "metadata": {
  "kernelspec": {
   "display_name": "Python 3",
   "language": "python",
   "name": "python3"
  },
  "language_info": {
   "codemirror_mode": {
    "name": "ipython",
    "version": 3
   },
   "file_extension": ".py",
   "mimetype": "text/x-python",
   "name": "python",
   "nbconvert_exporter": "python",
   "pygments_lexer": "ipython3",
   "version": "3.5.1"
  }
 },
 "nbformat": 4,
 "nbformat_minor": 0
}
