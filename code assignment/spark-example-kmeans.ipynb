{
 "cells": [
  {
   "cell_type": "code",
   "execution_count": 50,
   "metadata": {
    "collapsed": true
   },
   "outputs": [],
   "source": [
    "# Jayson Francis - Kmeans clustering with Spark\n",
    "\n",
    "import numpy as np\n",
    "\n",
    "from pyspark.mllib.linalg import Vectors\n",
    "from pyspark.mllib.clustering import KMeans, KMeansModel\n",
    "from pyspark.mllib.random import RandomRDDs"
   ]
  },
  {
   "cell_type": "code",
   "execution_count": 51,
   "metadata": {
    "collapsed": false
   },
   "outputs": [],
   "source": [
    "# Generate random class data with cluster center\n",
    "c1_v=RandomRDDs.normalVectorRDD(sc,20,2,numPartitions=2,seed=1).map(lambda v:np.add([1,5],v))\n",
    "c2_v=RandomRDDs.normalVectorRDD(sc,16,2,numPartitions=2,seed=2).map(lambda v:np.add([5,1],v))\n",
    "c3_v=RandomRDDs.normalVectorRDD(sc,12,2,numPartitions=2,seed=3).map(lambda v:np.add([4,6],v))"
   ]
  },
  {
   "cell_type": "code",
   "execution_count": 52,
   "metadata": {
    "collapsed": true
   },
   "outputs": [],
   "source": [
    "# Concatenate 2 RDDs with .union() function\n",
    "c12 = c1_v.union(c2_v)\n",
    "\n",
    "# Concatenate the rest of the data\n",
    "my_data = c12.union(c3_v)"
   ]
  },
  {
   "cell_type": "code",
   "execution_count": 65,
   "metadata": {
    "collapsed": false
   },
   "outputs": [],
   "source": [
    "# Returns a kmeans model.\n",
    "\n",
    "# Chose the number of clusters, 'k'\n",
    "# Chose the number of iterations and amount of runs\n",
    "# 'k-means||' is called k-means++ in the literature. Method to find good initial clusters so you dont have to have too many runs. \n",
    "\n",
    "my_kmmodel = KMeans.train(my_data, k=1, maxIterations=20, runs=1, initializationMode='k-means||', seed=10)"
   ]
  },
  {
   "cell_type": "code",
   "execution_count": 70,
   "metadata": {
    "collapsed": false
   },
   "outputs": [
    {
     "data": {
      "text/plain": [
       "[array([ 3.12801059,  3.92940785])]"
      ]
     },
     "execution_count": 70,
     "metadata": {},
     "output_type": "execute_result"
    }
   ],
   "source": [
    "my_kmmodel.clusterCenters"
   ]
  },
  {
   "cell_type": "code",
   "execution_count": 74,
   "metadata": {
    "collapsed": false
   },
   "outputs": [
    {
     "data": {
      "text/plain": [
       "(count: 48, mean: [ 3.12801059  3.92940785], stdev: [ 2.11814298  2.25624918], max: [ 6.36840832  8.04523732], min: [-1.33872715 -0.32867964])"
      ]
     },
     "execution_count": 74,
     "metadata": {},
     "output_type": "execute_result"
    }
   ],
   "source": [
    "my_data.stats()"
   ]
  },
  {
   "cell_type": "code",
   "execution_count": 86,
   "metadata": {
    "collapsed": false
   },
   "outputs": [
    {
     "name": "stdout",
     "output_type": "stream",
     "text": [
      "4.486529683723281 5.090660362250674\n",
      "SUM: 9.577190045973953\n"
     ]
    }
   ],
   "source": [
    "# Observation\n",
    "\n",
    "# The sum of the variance in both dimensions is the sum squared error.\n",
    "\n",
    "# Stdev derived from my_data.stats()\n",
    "print(2.11814298**2, 2.25624918**2)\n",
    "print('SUM: ' + str(2.11814298**2 + 2.25624918**2))"
   ]
  },
  {
   "cell_type": "code",
   "execution_count": 87,
   "metadata": {
    "collapsed": true
   },
   "outputs": [],
   "source": [
    "# Sum Squared Error\n",
    "# Get SSE of a point to the center of the cluster it's assigned to\n",
    "\n",
    "def getsse(point):\n",
    "    this_center = my_kmmodel.centers[my_kmmodel.predict(point)]\n",
    "    \n",
    "    return (sum([x**2 for x in (point - this_center)]))"
   ]
  },
  {
   "cell_type": "code",
   "execution_count": 88,
   "metadata": {
    "collapsed": false
   },
   "outputs": [],
   "source": [
    "# Collect list of sse of each point to it's center\n",
    "my_sse = my_data.map(getsse).collect()"
   ]
  },
  {
   "cell_type": "code",
   "execution_count": 89,
   "metadata": {
    "collapsed": false
   },
   "outputs": [
    {
     "name": "stdout",
     "output_type": "stream",
     "text": [
      "9.57719005617\n"
     ]
    }
   ],
   "source": [
    "print(np.array(my_sse).mean())"
   ]
  }
 ],
 "metadata": {
  "kernelspec": {
   "display_name": "Python 3",
   "language": "python",
   "name": "python3"
  },
  "language_info": {
   "codemirror_mode": {
    "name": "ipython",
    "version": 3
   },
   "file_extension": ".py",
   "mimetype": "text/x-python",
   "name": "python",
   "nbconvert_exporter": "python",
   "pygments_lexer": "ipython3",
   "version": "3.5.1"
  }
 },
 "nbformat": 4,
 "nbformat_minor": 0
}
